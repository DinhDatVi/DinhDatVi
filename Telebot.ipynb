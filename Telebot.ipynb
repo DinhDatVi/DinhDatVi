{
  "nbformat": 4,
  "nbformat_minor": 0,
  "metadata": {
    "colab": {
      "provenance": [],
      "authorship_tag": "ABX9TyNvnq8qLNRbGJA6R1sr9yyf",
      "include_colab_link": true
    },
    "kernelspec": {
      "name": "python3",
      "display_name": "Python 3"
    },
    "language_info": {
      "name": "python"
    }
  },
  "cells": [
    {
      "cell_type": "markdown",
      "metadata": {
        "id": "view-in-github",
        "colab_type": "text"
      },
      "source": [
        "<a href=\"https://colab.research.google.com/github/DinhDatVi/DinhDatVi/blob/main/Telebot.ipynb\" target=\"_parent\"><img src=\"https://colab.research.google.com/assets/colab-badge.svg\" alt=\"Open In Colab\"/></a>"
      ]
    },
    {
      "cell_type": "code",
      "source": [
        "pip install python-telegram-bot"
      ],
      "metadata": {
        "colab": {
          "base_uri": "https://localhost:8080/",
          "height": 705
        },
        "id": "bPJ7ewHJtGLv",
        "outputId": "54f2a99a-affb-46d6-b72b-2d44f0a4a4b4"
      },
      "execution_count": 2,
      "outputs": [
        {
          "output_type": "stream",
          "name": "stdout",
          "text": [
            "Looking in indexes: https://pypi.org/simple, https://us-python.pkg.dev/colab-wheels/public/simple/\n",
            "Collecting python-telegram-bot\n",
            "  Downloading python_telegram_bot-13.15-py3-none-any.whl (519 kB)\n",
            "\u001b[K     |████████████████████████████████| 519 kB 4.8 MB/s \n",
            "\u001b[?25hRequirement already satisfied: pytz>=2018.6 in /usr/local/lib/python3.8/dist-packages (from python-telegram-bot) (2022.6)\n",
            "Collecting cachetools==4.2.2\n",
            "  Downloading cachetools-4.2.2-py3-none-any.whl (11 kB)\n",
            "Collecting APScheduler==3.6.3\n",
            "  Downloading APScheduler-3.6.3-py2.py3-none-any.whl (58 kB)\n",
            "\u001b[K     |████████████████████████████████| 58 kB 6.5 MB/s \n",
            "\u001b[?25hRequirement already satisfied: certifi in /usr/local/lib/python3.8/dist-packages (from python-telegram-bot) (2022.9.24)\n",
            "Collecting tornado==6.1\n",
            "  Downloading tornado-6.1-cp38-cp38-manylinux2010_x86_64.whl (427 kB)\n",
            "\u001b[K     |████████████████████████████████| 427 kB 60.1 MB/s \n",
            "\u001b[?25hRequirement already satisfied: tzlocal>=1.2 in /usr/local/lib/python3.8/dist-packages (from APScheduler==3.6.3->python-telegram-bot) (1.5.1)\n",
            "Requirement already satisfied: setuptools>=0.7 in /usr/local/lib/python3.8/dist-packages (from APScheduler==3.6.3->python-telegram-bot) (57.4.0)\n",
            "Requirement already satisfied: six>=1.4.0 in /usr/local/lib/python3.8/dist-packages (from APScheduler==3.6.3->python-telegram-bot) (1.15.0)\n",
            "Installing collected packages: tornado, cachetools, APScheduler, python-telegram-bot\n",
            "  Attempting uninstall: tornado\n",
            "    Found existing installation: tornado 6.0.4\n",
            "    Uninstalling tornado-6.0.4:\n",
            "      Successfully uninstalled tornado-6.0.4\n",
            "  Attempting uninstall: cachetools\n",
            "    Found existing installation: cachetools 5.2.0\n",
            "    Uninstalling cachetools-5.2.0:\n",
            "      Successfully uninstalled cachetools-5.2.0\n",
            "\u001b[31mERROR: pip's dependency resolver does not currently take into account all the packages that are installed. This behaviour is the source of the following dependency conflicts.\n",
            "google-colab 1.0.0 requires tornado~=6.0.4, but you have tornado 6.1 which is incompatible.\u001b[0m\n",
            "Successfully installed APScheduler-3.6.3 cachetools-4.2.2 python-telegram-bot-13.15 tornado-6.1\n"
          ]
        },
        {
          "output_type": "display_data",
          "data": {
            "application/vnd.colab-display-data+json": {
              "pip_warning": {
                "packages": [
                  "tornado"
                ]
              }
            }
          },
          "metadata": {}
        }
      ]
    },
    {
      "cell_type": "code",
      "execution_count": 11,
      "metadata": {
        "id": "a8eW40-ys0B1"
      },
      "outputs": [],
      "source": [
        "import logging\n",
        "from telegram import *\n",
        "from telegram.ext import *\n",
        "import datetime"
      ]
    },
    {
      "cell_type": "code",
      "source": [
        "updater = Updater(token='5828419174:AAGnVWj4eOKdZlORNMg8dMtAdopXNPyvKoI', use_context=True)\n",
        "dispatcher = updater.dispatcher\n",
        "logging.basicConfig(format='%(asctime)s - %(name)s - %(levelname)s - %(message)s', level=logging.INFO)"
      ],
      "metadata": {
        "id": "AWYRQrt-tbpf"
      },
      "execution_count": 2,
      "outputs": []
    },
    {
      "cell_type": "code",
      "source": [
        "chat_id = '-1001538030626'"
      ],
      "metadata": {
        "id": "03sghNk2uHrc"
      },
      "execution_count": 3,
      "outputs": []
    },
    {
      "cell_type": "code",
      "source": [
        "def start(update, context):\n",
        "    message = 'Welcome to the bot'\n",
        "    context.bot.send_message(chat_id=chat_id, text=message)\n",
        "# give a name to the command and add it to the dispatcher\n",
        "start_handler = CommandHandler('start', start)\n",
        "dispatcher.add_handler(start_handler)\n",
        "updater.start_polling()"
      ],
      "metadata": {
        "colab": {
          "base_uri": "https://localhost:8080/"
        },
        "id": "QbW5mEqju2ob",
        "outputId": "b53f9b73-0664-4b46-8f9c-fc38e03c1a22"
      },
      "execution_count": 4,
      "outputs": [
        {
          "output_type": "execute_result",
          "data": {
            "text/plain": [
              "<queue.Queue at 0x7fe43339e8e0>"
            ]
          },
          "metadata": {},
          "execution_count": 4
        }
      ]
    },
    {
      "cell_type": "code",
      "source": [
        "j = updater.job_queue"
      ],
      "metadata": {
        "id": "BPIePpmSutlj"
      },
      "execution_count": 5,
      "outputs": []
    },
    {
      "cell_type": "code",
      "source": [
        "#def once(context: CallbackContext):\n",
        "#  context.bot.send_message(chat_id=chat_id, text=message)"
      ],
      "metadata": {
        "id": "I7_4XU_DuuDG"
      },
      "execution_count": 6,
      "outputs": []
    },
    {
      "cell_type": "code",
      "source": [
        "def daily(context: CallbackContext):\n",
        "    message = \"Một ngày làm diệc tốt lành! Mọi người comment tiến trình task giúp em vikachu nhé\\n\" \\\n",
        "    \"Link project: https://app.asana.com/0/1202797694428823/1202797694428823\\n\" \\\n",
        "    \"Nội dung comment: % progress + preview (ảnh/clip) + problem (nếu có)\" \\\n",
        "    \"Cold regards, sin cũm mơn à^^\"\n",
        "    context.bot.send_message(chat_id=chat_id, text=message)"
      ],
      "metadata": {
        "id": "yfEfm3kc2lu0"
      },
      "execution_count": 19,
      "outputs": []
    },
    {
      "cell_type": "code",
      "source": [
        "job_daily = j.run_daily(daily, days=(1, 3, 5), time=datetime.time(hour=2, minute=35, second=00))\n",
        "#UTC time"
      ],
      "metadata": {
        "id": "9TkxM9er3E4d"
      },
      "execution_count": 18,
      "outputs": []
    }
  ]
}